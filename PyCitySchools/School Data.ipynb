{
 "cells": [
  {
   "cell_type": "code",
   "execution_count": 2,
   "id": "595f3250",
   "metadata": {},
   "outputs": [],
   "source": [
    "# dependencies\n",
    "\n",
    "import pandas as pd\n",
    "from pathlib import Path"
   ]
  },
  {
   "cell_type": "code",
   "execution_count": 3,
   "id": "ceb981dd",
   "metadata": {},
   "outputs": [],
   "source": [
    "# files\n",
    "\n",
    "file1 = Path('../../Resources/schools_complete.csv')\n",
    "file2 = Path('../../Resources/students_complete.csv')"
   ]
  },
  {
   "cell_type": "code",
   "execution_count": 4,
   "id": "77ef69cf",
   "metadata": {},
   "outputs": [],
   "source": [
    "# turn csvs into dataFrames\n",
    "\n",
    "schools_df = pd.read_csv(file1)\n",
    "students_df = pd.read_csv(file2)\n",
    "combined_df = pd.merge(schools_df, students_df, how='left', on=['school_name', 'school_name'])"
   ]
  },
  {
   "cell_type": "code",
   "execution_count": 5,
   "id": "3c2de33d",
   "metadata": {},
   "outputs": [],
   "source": [
    "# district calculations\n",
    "\n",
    "dSchools = len(schools_df.iloc[:,0])\n",
    "dStudents = len(students_df.iloc[:,0])\n",
    "dBudget = schools_df.iloc[:,4].sum()\n",
    "dAvgMath = students_df.iloc[:,6].mean()\n",
    "dAvgRead = students_df.iloc[:,5].mean()\n",
    "dMathPassAvg = (len(students_df.loc[students_df['reading_score'] > 70]) / dStudents) * 100\n",
    "dReadPassAvg = (len(students_df.loc[students_df['math_score'] > 70]) / dStudents) * 100\n",
    "dPassAvg = (((len(students_df.loc[students_df['reading_score'] > 70]) & \\\n",
    "           (len(students_df.loc[students_df['math_score'] > 70])))) / dStudents) * 100"
   ]
  },
  {
   "cell_type": "code",
   "execution_count": 70,
   "id": "f6e48b95",
   "metadata": {},
   "outputs": [
    {
     "data": {
      "text/plain": [
       "0        2917\n",
       "1        2917\n",
       "2        2917\n",
       "3        2917\n",
       "4        2917\n",
       "         ... \n",
       "39165    1635\n",
       "39166    1635\n",
       "39167    1635\n",
       "39168    1635\n",
       "39169    1635\n",
       "Name: size, Length: 39170, dtype: int64"
      ]
     },
     "execution_count": 70,
     "metadata": {},
     "output_type": "execute_result"
    }
   ],
   "source": [
    "# district DataFrame Construction\n",
    "district_summary_df = pd.DataFrame([\n",
    "                    {\"Total Schools\": dSchools},\n",
    "                    {\"Total Students\": dStudents},\n",
    "                    {\"Total Budget\": dBudget},\n",
    "                    {\"Average Math Score\": dAvgMath},\n",
    "                    {\"Average Reading Score\": dAvgRead},\n",
    "                    {\"Math Passing Average\": dMathPassAvg},\n",
    "                    {\"Reading Passing Average\": dReadPassAvg},\n",
    "                    {\"Overall Passing Average\": dPassAvg},\n",
    "                    ])\n",
    "\n",
    "# formatting\n",
    "\n",
    "district_summary_df['Total Students'] = district_summary_df['Total Students'].map('{:,}'.format)\n",
    "district_summary_df['Total Budget'] = district_summary_df['Total Budget'].map('${:,.2f}'.format)\n"
   ]
  },
  {
   "cell_type": "code",
   "execution_count": null,
   "id": "55589e97",
   "metadata": {},
   "outputs": [],
   "source": []
  },
  {
   "cell_type": "code",
   "execution_count": 131,
   "id": "2feb50c9",
   "metadata": {},
   "outputs": [],
   "source": [
    "# Per School Data\n",
    "\n",
    "school_type = schools_df['type'].unique()\n",
    "schoolGroups = schools_df.groupby(['school_name'])\n",
    "studentGrouped = students_df.groupby(['school_name'])\n",
    "\n",
    "# Count Per School\n",
    "pSchoolCounts = schoolGroups['size'].sum()\n",
    "\n",
    "# Total Budget and Per Capita\n",
    "pSchoolBudget = schoolGroups['budget'].sum()\n",
    "pStudentBudget = pSchoolBudget / pSchoolCounts\n",
    "\n",
    "# Average Scores per school\n",
    "pSchoolMath = studentGrouped['math_score'].mean()\n",
    "pSchoolRead = studentGrouped['reading_score'].mean()\n",
    "\n",
    "passingMath = combined_df['math_score'] >= 70\n",
    "#pPercMath = (len(studentGrouped.loc[studentGrouped['math_score'] > 70])) / len(pSchoolCounts)\n",
    "#pPercRead = (len(studentGrouped.loc[studentGrouped['reading_score'] > 70])) / len(pSchoolCounts)\n",
    "#pOvrPass = (len(studentGrouped.loc[studentGrouped['math_score'] > 70]) & \\\n",
    "           #(len(studentGrouped.loc[studentGrouped['math_score'] > 70])) / len(pSchoolCounts)"
   ]
  },
  {
   "cell_type": "code",
   "execution_count": 133,
   "id": "a17a626e",
   "metadata": {},
   "outputs": [
    {
     "data": {
      "text/plain": [
       "39170"
      ]
     },
     "execution_count": 133,
     "metadata": {},
     "output_type": "execute_result"
    }
   ],
   "source": [
    "len(passingMath)"
   ]
  },
  {
   "cell_type": "code",
   "execution_count": null,
   "id": "7a51272a",
   "metadata": {},
   "outputs": [],
   "source": []
  }
 ],
 "metadata": {
  "kernelspec": {
   "display_name": "Python 3 (ipykernel)",
   "language": "python",
   "name": "python3"
  },
  "language_info": {
   "codemirror_mode": {
    "name": "ipython",
    "version": 3
   },
   "file_extension": ".py",
   "mimetype": "text/x-python",
   "name": "python",
   "nbconvert_exporter": "python",
   "pygments_lexer": "ipython3",
   "version": "3.10.9"
  }
 },
 "nbformat": 4,
 "nbformat_minor": 5
}
